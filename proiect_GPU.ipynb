{
 "cells": [
  {
   "cell_type": "markdown",
   "metadata": {
    "id": "itffAdAPAj7W"
   },
   "source": [
    "# Versiunea GPU"
   ]
  },
  {
   "cell_type": "markdown",
   "metadata": {
    "id": "scfLT2i0MLyD"
   },
   "source": [
    "# Environment Sanity Check #\n",
    "\n",
    "Click the _Runtime_ dropdown at the top of the page, then _Change Runtime Type_ and confirm the instance type is _GPU_.\n",
    "\n",
    "Check the output of `!nvidia-smi` to make sure you've been allocated a Tesla T4, P4, or P100."
   ]
  },
  {
   "cell_type": "code",
   "execution_count": null,
   "metadata": {
    "colab": {
     "base_uri": "https://localhost:8080/"
    },
    "id": "67T0090Jk2KL",
    "outputId": "77895de0-2f09-46b0-8a48-cd0364e900db"
   },
   "outputs": [],
   "source": [
    "!nvidia-smi"
   ]
  },
  {
   "cell_type": "code",
   "execution_count": null,
   "metadata": {
    "colab": {
     "base_uri": "https://localhost:8080/"
    },
    "id": "B0C8IV5TQnjN",
    "outputId": "8fea8c32-947e-4ff7-ccad-3cafd48ea046"
   },
   "outputs": [],
   "source": [
    "# This get the RAPIDS-Colab install files and test check your GPU.  Run this and the next cell only.\n",
    "# Please read the output of this cell.  If your Colab Instance is not RAPIDS compatible, it will warn you and give you remediation steps.\n",
    "!git clone https://github.com/rapidsai/rapidsai-csp-utils.git\n",
    "!python rapidsai-csp-utils/colab/pip-install.py"
   ]
  },
  {
   "cell_type": "code",
   "execution_count": null,
   "metadata": {
    "colab": {
     "base_uri": "https://localhost:8080/",
     "height": 35
    },
    "id": "4nLrk46BllED",
    "outputId": "450b8a35-c83b-4032-b33c-37d2574f6b7e"
   },
   "outputs": [],
   "source": [
    "import cudf\n",
    "cudf.__version__"
   ]
  },
  {
   "cell_type": "code",
   "execution_count": null,
   "metadata": {
    "colab": {
     "base_uri": "https://localhost:8080/",
     "height": 35
    },
    "id": "xgAFgI15ddf6",
    "outputId": "ec997350-e9f9-46b1-d5b5-47bd6a1e89e0"
   },
   "outputs": [],
   "source": [
    "import cuml\n",
    "cuml.__version__"
   ]
  },
  {
   "cell_type": "code",
   "execution_count": null,
   "metadata": {
    "colab": {
     "base_uri": "https://localhost:8080/",
     "height": 35
    },
    "id": "JOCMWaUal1fI",
    "outputId": "db46e679-1da9-4a01-9515-d55b3064e415"
   },
   "outputs": [],
   "source": [
    "import cugraph\n",
    "cugraph.__version__"
   ]
  },
  {
   "cell_type": "markdown",
   "metadata": {
    "id": "ZKF72Sl006nO"
   },
   "source": [
    "# Mount Drive"
   ]
  },
  {
   "cell_type": "code",
   "execution_count": null,
   "metadata": {
    "colab": {
     "base_uri": "https://localhost:8080/"
    },
    "id": "KmDZ4OP10_M2",
    "outputId": "08d8ef5f-a31d-43b8-b333-862f14a16453"
   },
   "outputs": [],
   "source": [
    "from google.colab import drive\n",
    "drive.mount('/content/drive')"
   ]
  },
  {
   "cell_type": "code",
   "execution_count": null,
   "metadata": {
    "colab": {
     "base_uri": "https://localhost:8080/"
    },
    "id": "vbS5zL2W7SkZ",
    "outputId": "23210fb0-7b68-43d9-db5c-fcdac627ca8c"
   },
   "outputs": [],
   "source": [
    "%cd /content/drive/MyDrive/Master/AI\n",
    "!ls"
   ]
  },
  {
   "cell_type": "markdown",
   "metadata": {
    "id": "zsTWGbjM0Eai"
   },
   "source": [
    "# Import Libraries"
   ]
  },
  {
   "cell_type": "code",
   "execution_count": null,
   "metadata": {
    "colab": {
     "base_uri": "https://localhost:8080/"
    },
    "id": "ru9HLjOzKhdd",
    "outputId": "6e137305-6741-44a6-c4f8-76f249e8a736"
   },
   "outputs": [],
   "source": [
    "!pip install transformers\n",
    "!pip install gpustat==1.0.0"
   ]
  },
  {
   "cell_type": "code",
   "execution_count": null,
   "metadata": {
    "id": "pt-JmrtbBjLP"
   },
   "outputs": [],
   "source": [
    "import time\n",
    "import psutil\n",
    "import cProfile\n",
    "from gpustat import GPUStatCollection\n",
    "import cudf\n",
    "import cuml\n",
    "from cuml.metrics import confusion_matrix\n",
    "import tensorflow as tf\n",
    "import tensorflow_hub as hub\n",
    "import numpy as np\n",
    "import pandas as pd\n",
    "from sklearn.model_selection import train_test_split\n",
    "from sklearn.metrics import roc_curve, auc, f1_score, precision_score, recall_score\n",
    "import gensim.downloader as api\n",
    "import itertools\n",
    "from transformers import BertTokenizer, TFBertModel\n",
    "import re\n",
    "import nltk\n",
    "from nltk.corpus import stopwords\n",
    "from nltk.stem import WordNetLemmatizer\n",
    "from nltk.tokenize import word_tokenize"
   ]
  },
  {
   "cell_type": "code",
   "execution_count": null,
   "metadata": {
    "colab": {
     "base_uri": "https://localhost:8080/"
    },
    "id": "VWK0iWmOJxU_",
    "outputId": "a9e5cff2-151b-4531-82ec-a1b317f056e3"
   },
   "outputs": [],
   "source": [
    "nltk.download('stopwords')\n",
    "nltk.download('punkt')\n",
    "nltk.download('wordnet')"
   ]
  },
  {
   "cell_type": "markdown",
   "metadata": {
    "id": "In00IwnB0NUa"
   },
   "source": [
    "# Choose dataset and embedding method"
   ]
  },
  {
   "cell_type": "code",
   "execution_count": null,
   "metadata": {
    "cellView": "form",
    "colab": {
     "base_uri": "https://localhost:8080/"
    },
    "id": "vzud9mbK0V2t",
    "outputId": "d38e4f0a-78ee-49d7-fb57-3f735e5465f4"
   },
   "outputs": [],
   "source": [
    "#@title Dataset\n",
    "\n",
    "dataset_name = 'Hateval2019' #@param [\"Hateval2019\", \"Davidson\"] {allow-input: true}\n",
    "\n",
    "print(dataset_name)"
   ]
  },
  {
   "cell_type": "code",
   "execution_count": null,
   "metadata": {
    "cellView": "form",
    "colab": {
     "base_uri": "https://localhost:8080/"
    },
    "id": "w6_gVTDI2UEi",
    "outputId": "db6de1f4-3834-43cf-b499-60d1b289a2e6"
   },
   "outputs": [],
   "source": [
    "#@title Embedding Method\n",
    "\n",
    "embedding_method_name = 'BERT' #@param [\"ELMo\", \"FastText\", \"Word2Vec\", \"GloVe\", \"BERT\"] {allow-input: true}\n",
    "\n",
    "print(embedding_method_name)"
   ]
  },
  {
   "cell_type": "markdown",
   "metadata": {
    "id": "qOHPOnTiot2S"
   },
   "source": [
    "# Define Function to Print GPU Usage"
   ]
  },
  {
   "cell_type": "code",
   "execution_count": null,
   "metadata": {
    "id": "vDxPghzAok_C"
   },
   "outputs": [],
   "source": [
    "# Define your GPU usage function\n",
    "def print_gpu_usage():\n",
    "    stats = GPUStatCollection.new_query()\n",
    "    for gpu in stats.gpus:\n",
    "        memory_used_kb = gpu.memory_used * 1024\n",
    "        print(f'GPU {gpu.index} - utilization: {gpu.utilization}% - memory used: {memory_used_kb}KB')"
   ]
  },
  {
   "cell_type": "markdown",
   "metadata": {
    "id": "e_4uZH8RJqa6"
   },
   "source": [
    "# Load Datasets"
   ]
  },
  {
   "cell_type": "code",
   "execution_count": null,
   "metadata": {
    "id": "SRVHAiw4DDEY"
   },
   "outputs": [],
   "source": [
    "def load_hateval2019_dataset(file_path: str) -> cudf.DataFrame:\n",
    "    \"\"\"\n",
    "    Loads the Hateval2019 dataset from a CSV file located at the specified file path\n",
    "    and returns a cuDF DataFrame containing the loaded data.\n",
    "\n",
    "    Args:\n",
    "        file_path (str): The path to the CSV file containing the Hateval2019 dataset.\n",
    "\n",
    "    Returns:\n",
    "        cudf.DataFrame: A cuDF DataFrame containing the loaded data.\n",
    "    \"\"\"\n",
    "    column_names = [\"id\", \"text\", \"HS\", \"TR\", \"AG\"]\n",
    "    df = cudf.read_csv(file_path, names=column_names, header=0)\n",
    "    return df"
   ]
  },
  {
   "cell_type": "code",
   "execution_count": null,
   "metadata": {
    "id": "O6MulXReJuQx"
   },
   "outputs": [],
   "source": [
    "# def load_davidson_dataset(file_path: str) -> cudf.DataFrame:\n",
    "#     \"\"\"\n",
    "#     Loads the Davidson dataset from a CSV file located at the specified file path\n",
    "#     and returns a cuDF DataFrame containing the loaded data.\n",
    "\n",
    "#     Args:\n",
    "#         file_path (str): The path to the CSV file containing the Davidson dataset.\n",
    "\n",
    "#     Returns:\n",
    "#         cudf.DataFrame: A cuDF DataFrame containing the loaded data.\n",
    "#     \"\"\"\n",
    "#     column_names = [\"count\", \"hate_speech\", \"offensive_language\", \"neither\", \"class\", \"tweet\"]\n",
    "#     df = cudf.read_csv(file_path, names=column_names, header=0)\n",
    "#     return df"
   ]
  },
  {
   "cell_type": "code",
   "execution_count": null,
   "metadata": {
    "colab": {
     "base_uri": "https://localhost:8080/"
    },
    "id": "FKJQBpHS1x1M",
    "outputId": "da74a3e8-49c1-4180-84a0-5defe1d5e682"
   },
   "outputs": [],
   "source": [
    "# Load Hateval2019 dataset and print execution time\n",
    "start = time.time()\n",
    "memory_before = psutil.virtual_memory().used\n",
    "\n",
    "print(\"GPU usage before loading Hateeval-2019 dataset:\")\n",
    "print_gpu_usage()\n",
    "\n",
    "hateval2019_dataset = load_hateval2019_dataset(\"/content/drive/MyDrive/Master/AI/DATASETS/HATEVAL/hateval2019_en.csv\")\n",
    "\n",
    "print(\"GPU usage after loading Hateeval-2019 dataset:\")\n",
    "print_gpu_usage()\n",
    "print()\n",
    "\n",
    "memory_after = psutil.virtual_memory().used\n",
    "print(f\"Memory used loading Hateeval-2019 dataset: {(memory_after - memory_before)/1024:.2f} KB\\n\")\n",
    "\n",
    "end = time.time()\n",
    "print(f\"Execution time of loading Hateeval-2019 dataset: {end-start:.2f} seconds\")"
   ]
  },
  {
   "cell_type": "code",
   "execution_count": null,
   "metadata": {
    "colab": {
     "base_uri": "https://localhost:8080/"
    },
    "id": "i_HUD3PMo9S9",
    "outputId": "5c537c03-f429-4f19-82aa-b6591a98cdd9"
   },
   "outputs": [],
   "source": [
    "# # Load Davidson dataset and print execution time\n",
    "# start = time.time()\n",
    "# memory_before = psutil.virtual_memory().used\n",
    "\n",
    "# print(\"GPU usage before loading Davidson dataset:\")\n",
    "# print_gpu_usage()\n",
    "\n",
    "# davidson_dataset = load_davidson_dataset(\"/content/drive/MyDrive/Master/AI/DATASETS/TWITTER/labeled_data.csv\")\n",
    "\n",
    "# print(\"GPU usage after loading Davidson dataset:\")\n",
    "# print_gpu_usage()\n",
    "# print()\n",
    "\n",
    "# memory_after = psutil.virtual_memory().used\n",
    "# print(f\"Memory used loading Davidson dataset: {(memory_after - memory_before)/1024:.2f} KB\\n\")\n",
    "\n",
    "# end = time.time()\n",
    "# print(f\"Execution time of loading Davidson dataset: {end-start:.2f} seconds\")"
   ]
  },
  {
   "cell_type": "code",
   "execution_count": null,
   "metadata": {
    "id": "y9BZnIeaLbK0"
   },
   "outputs": [],
   "source": [
    "if dataset_name == 'Hateval2019':\n",
    "  data = hateval2019_dataset['text']\n",
    "  labels = hateval2019_dataset['HS']\n",
    "# elif dataset_name == 'Davidson':\n",
    "#   data = davidson_dataset['tweet']\n",
    "#   labels = davidson_dataset['hate_speech']"
   ]
  },
  {
   "cell_type": "markdown",
   "metadata": {
    "id": "bv45snh1JkXh"
   },
   "source": [
    "# Preprocess Data"
   ]
  },
  {
   "cell_type": "code",
   "execution_count": null,
   "metadata": {
    "id": "z8j87PxLJjnd"
   },
   "outputs": [],
   "source": [
    "def preprocess_text(text):\n",
    "    \"\"\"\n",
    "    Preprocesses text data by performing the following steps:\n",
    "    - Removes HTML tags and URLs\n",
    "    - Tokenizes the text\n",
    "    - Converts tokens to lowercase\n",
    "    - Removes stopwords\n",
    "    - Lemmatizes tokens\n",
    "\n",
    "    Args:\n",
    "        text (str): The text data to preprocess\n",
    "\n",
    "    Returns:\n",
    "        str: A preprocessed string\n",
    "    \"\"\"\n",
    "    # Remove HTML tags and URLs\n",
    "    text = re.sub('<[^<]+?>', '', text)\n",
    "    text = re.sub(r'http\\S+', '', text)\n",
    "\n",
    "    # Tokenize the text\n",
    "    tokens = word_tokenize(text)\n",
    "\n",
    "    # Convert to lowercase\n",
    "    tokens = [token.lower() for token in tokens]\n",
    "\n",
    "    # Remove stopwords\n",
    "    stop_words = set(stopwords.words('english'))\n",
    "    tokens = [token for token in tokens if token not in stop_words]\n",
    "\n",
    "    # Lemmatize the tokens\n",
    "    lemmatizer = WordNetLemmatizer()\n",
    "    tokens = [lemmatizer.lemmatize(token) for token in tokens]\n",
    "\n",
    "    # Join the preprocessed tokens back into a string\n",
    "    preprocessed_text = \" \".join(tokens)\n",
    "\n",
    "    return preprocessed_text"
   ]
  },
  {
   "cell_type": "code",
   "execution_count": null,
   "metadata": {
    "id": "NrdGEn40Jnt1"
   },
   "outputs": [],
   "source": [
    "# data = data.apply(preprocess_text)"
   ]
  },
  {
   "cell_type": "markdown",
   "metadata": {
    "id": "HS3b-WkwGO1O"
   },
   "source": [
    "# Load Embeddings"
   ]
  },
  {
   "cell_type": "code",
   "execution_count": null,
   "metadata": {
    "id": "ChetXmsEIyJ7"
   },
   "outputs": [],
   "source": [
    "def load_glove_model(file_path):\n",
    "    \"\"\"\n",
    "    Loads the GloVe model from a file located at the specified file path and \n",
    "    returns a dictionary containing the word vectors from the model.\n",
    "\n",
    "    Args:\n",
    "        file_path (str): The path to the file containing the GloVe model.\n",
    "\n",
    "    Returns:\n",
    "        dict: A Python dictionary object containing the word vectors from the \n",
    "        GloVe model. Each key in the dictionary represents a word, and the value \n",
    "        associated with the key is a numpy array that contains the corresponding \n",
    "        word vector.\n",
    "    \"\"\"\n",
    "    glove_model = {}\n",
    "    with open(file_path, 'r', encoding='utf-8') as f:\n",
    "        for line in f:\n",
    "            values = line.split()\n",
    "            word = values[0]\n",
    "            vector = np.asarray(values[1:], dtype='float32')\n",
    "            glove_model[word] = vector\n",
    "    return glove_model"
   ]
  },
  {
   "cell_type": "code",
   "execution_count": null,
   "metadata": {
    "id": "0taO9E50I9tB"
   },
   "outputs": [],
   "source": [
    "def elmo_vectors(text, batch_size=8):\n",
    "    \"\"\"\n",
    "    Computes ELMo embeddings for the given text using a pre-trained ELMo model.\n",
    "\n",
    "    Args:\n",
    "        text (numpy.ndarray): A 1-dimensional numpy array containing the text for \n",
    "        which ELMo embeddings are to be computed.\n",
    "        batch_size (int, optional): The batch size to use when computing embeddings. \n",
    "        Defaults to 8.\n",
    "\n",
    "    Returns:\n",
    "        numpy.ndarray: A 2-dimensional numpy array containing the ELMo embeddings \n",
    "        for the given text. Each row in the array represents a sentence, and each \n",
    "        column represents a dimension in the embedding space.\n",
    "    \"\"\"\n",
    "    num_batches = len(text) // batch_size + (1 if len(text) % batch_size > 0 else 0)\n",
    "    embeddings = []\n",
    "    \n",
    "    for i in range(num_batches):\n",
    "        start_index = i * batch_size\n",
    "        end_index = min((i + 1) * batch_size, len(text))\n",
    "        batch_text = text[start_index:end_index]\n",
    "        batch_embeddings = elmo(tf.convert_to_tensor(batch_text.tolist()), training=False)\n",
    "        embeddings.append(batch_embeddings.numpy())\n",
    "\n",
    "    return np.concatenate(embeddings, axis=0)"
   ]
  },
  {
   "cell_type": "code",
   "execution_count": null,
   "metadata": {
    "id": "igoQQ_c-JFmI"
   },
   "outputs": [],
   "source": [
    "def fasttext_word2vec_vectors(text, model):\n",
    "    \"\"\"\n",
    "    Computes FastText word embeddings for the given text using a pre-trained \n",
    "    FastText model.\n",
    "\n",
    "    Args:\n",
    "        text (list): A list of strings containing the text for which FastText \n",
    "        embeddings are to be computed.\n",
    "        model (fasttext.FastText._FastText): The pre-trained FastText model to \n",
    "        use for computing embeddings.\n",
    "\n",
    "    Returns:\n",
    "        numpy.ndarray: A 2-dimensional numpy array containing the FastText \n",
    "        embeddings for the given text. Each row in the array represents a \n",
    "        sentence, and each column represents a dimension in the embedding space.\n",
    "    \"\"\"\n",
    "    embeddings = []\n",
    "    zero_vector = np.zeros(model.vector_size)\n",
    "\n",
    "    for sentence in text:\n",
    "        words = sentence.split()\n",
    "        sentence_embeddings = [model[word] for word in words if word in model]\n",
    "        \n",
    "        if not sentence_embeddings:\n",
    "            sentence_embeddings = [zero_vector]\n",
    "        \n",
    "        embeddings.append(np.mean(sentence_embeddings, axis=0))\n",
    "\n",
    "    return np.array(embeddings)"
   ]
  },
  {
   "cell_type": "code",
   "execution_count": null,
   "metadata": {
    "id": "_TSZcVj-JMKD"
   },
   "outputs": [],
   "source": [
    "def glove_vectors(text):\n",
    "    \"\"\"\n",
    "    Computes GloVe embeddings for the given text using a pre-loaded GloVe model.\n",
    "\n",
    "    Args:\n",
    "        text (list): A list of strings containing the text for which GloVe \n",
    "        embeddings are to be computed.\n",
    "\n",
    "    Returns:\n",
    "        numpy.ndarray: A 2-dimensional numpy array containing the GloVe embeddings \n",
    "        for the given text. Each row in the array represents a sentence, and each \n",
    "        column represents a dimension in the embedding space.\n",
    "    \"\"\"\n",
    "    embeddings = []\n",
    "    \n",
    "    # Get the vector size from the first word in the dictionary\n",
    "    vector_size = len(next(iter(glove_model.values())))\n",
    "    zero_vector = np.zeros(vector_size)\n",
    "\n",
    "    for sentence in text:\n",
    "        words = sentence.split()\n",
    "        sentence_embeddings = [glove_model[word] for word in words if word in glove_model]\n",
    "\n",
    "        if not sentence_embeddings:\n",
    "            sentence_embeddings = [zero_vector]\n",
    "\n",
    "        embeddings.append(np.mean(sentence_embeddings, axis=0))\n",
    "\n",
    "    return np.array(embeddings)"
   ]
  },
  {
   "cell_type": "code",
   "execution_count": null,
   "metadata": {
    "id": "mbrOn3kVJTi_"
   },
   "outputs": [],
   "source": [
    "def bert_vectors(text, batch_size=32):\n",
    "    \"\"\"\n",
    "    Computes BERT embeddings for the given text using a pre-trained BERT model.\n",
    "\n",
    "    Args:\n",
    "        text (list): A list of strings containing the text for which BERT embeddings \n",
    "        are to be computed.\n",
    "        batch_size (int, optional): The batch size to use when computing embeddings. \n",
    "        Defaults to 32.\n",
    "\n",
    "    Returns:\n",
    "        numpy.ndarray: A 2-dimensional numpy array containing the BERT embeddings \n",
    "        for the given text. Each row in the array represents a sentence, and each \n",
    "        column represents a dimension in the embedding space.\n",
    "    \"\"\"\n",
    "    # Load the BERT tokenizer and model\n",
    "    tokenizer = BertTokenizer.from_pretrained(\"bert-base-uncased\")\n",
    "    model = TFBertModel.from_pretrained(\"bert-base-uncased\")\n",
    "\n",
    "    # Compute the number of batches\n",
    "    num_batches = len(text) // batch_size + (1 if len(text) % batch_size > 0 else 0)\n",
    "    embeddings = []\n",
    "\n",
    "    for i in range(num_batches):\n",
    "        start_index = i * batch_size\n",
    "        end_index = min((i + 1) * batch_size, len(text))\n",
    "        batch_text = text[start_index:end_index]\n",
    "\n",
    "        # Tokenize the batch of text and generate input tensors for the model\n",
    "        inputs = tokenizer(batch_text.tolist(), return_tensors=\"tf\", padding=True, truncation=True, max_length=512)\n",
    "\n",
    "        # Generate embeddings for the batch using the BERT model\n",
    "        outputs = model(inputs)\n",
    "        batch_embeddings = outputs.last_hidden_state[:, 0, :]\n",
    "        embeddings.append(batch_embeddings.numpy())\n",
    "\n",
    "    return np.concatenate(embeddings, axis=0)"
   ]
  },
  {
   "cell_type": "code",
   "execution_count": null,
   "metadata": {
    "id": "s6WWqDmKGi_M"
   },
   "outputs": [],
   "source": [
    "if embedding_method_name == \"ELMo\":\n",
    "  elmo = hub.KerasLayer(\"https://tfhub.dev/google/elmo/3\", trainable=False)\n",
    "  embeddings_func = elmo_vectors\n",
    "elif embedding_method_name == \"FastText\":\n",
    "  fasttext_model = api.load(\"fasttext-wiki-news-subwords-300\")\n",
    "  embeddings_func = lambda text: fasttext_word2vec_vectors(text, fasttext_model)\n",
    "elif embedding_method_name == \"Word2Vec\":\n",
    "  word2vec_model = api.load(\"word2vec-google-news-300\")\n",
    "  embeddings_func = lambda text: fasttext_word2vec_vectors(text, word2vec_model)\n",
    "elif embedding_method_name == \"GloVe\":\n",
    "  glove_model = load_glove_model('/content/drive/MyDrive/Master/AI/glove.6B.50d.txt')\n",
    "  embeddings_func = glove_vectors\n",
    "elif embedding_method_name == \"BERT\":\n",
    "  bert = hub.KerasLayer(\"https://tfhub.dev/tensorflow/bert_en_uncased_L-12_H-768_A-12/3\", trainable=False)\n",
    "  embeddings_func = bert_vectors"
   ]
  },
  {
   "cell_type": "code",
   "execution_count": null,
   "metadata": {
    "colab": {
     "base_uri": "https://localhost:8080/",
     "height": 269,
     "referenced_widgets": [
      "3201075d9ef14a8ba772f3a41671db7a",
      "5fef3f7352cb44c1b9be6e74ce550b07",
      "20464b6b2eb04de383660752aac35957",
      "c3b4c29f62bc4fd5b23d933cdf8a88ab",
      "858bbbbdc73044de950dc867e79ed7c0",
      "eddceb506d1c40dcb1bf835174224827",
      "ab75b3c140e445cd84fe01d675637025",
      "279aebc4f0064fa3bc61e56088e10ec3",
      "5e9c29eafe0248d49287ec1f346d511d",
      "70c35d143b7d49d9a464c9ea1f873b20",
      "fced40ccdda34b38b13d2264a40c2e08",
      "a290c9e19481467fb38f6a5632aa9664",
      "380d663024ab4c7bbdb71c70b978ebae",
      "ccf3cdb5cb9a40d199b70aefaf1ec45c",
      "0d580043691244aaadd406b2297b87bf",
      "633ab718103447998c36af208e523a41",
      "ab84af84486e44149cff5a518991d333",
      "06a48611880745fe89595bd3ede38adc",
      "3cd12608bc2041c4bc5084d819206282",
      "6c4132e0b9cd41b281ee97b59f9524f0",
      "565149efd39843998133f5d8763df158",
      "89661d9d37ab4681b6685a7eec7bb4e5",
      "98185e36ddd1447e8fb1580235efa4a2",
      "c1c957e59e75494695cf3c474d55ab68",
      "3f727621d1aa4a8181bf99f4e7d48210",
      "f12c30317b194aa0bd4ead1d1edea6c7",
      "a62d1496a87b4facb90840a2f9c70fd3",
      "b5e5d5aec7b84f289317011930935aa1",
      "0bc89c6c0a7c477facb549973fbfe1fc",
      "f7a8b40bf08a4392a9bde921b0a8f54c",
      "65ae17e8afed480abc91181e104ad113",
      "91b93c2b57a84eb78d8c72bcb18aa942",
      "1237cf8d36c24e36ae669b8d72f9ea79",
      "ffd1f457a6d4428085eb9a6e1245fda0",
      "fc0b972027b14c879bbd9aac3a791cb8",
      "3be74acbb7a048ccb94af48e0098dc26",
      "9bf2db1e1849420a9182bf115a1f6813",
      "e0b154c66e88494295d2b52abb43a1f5",
      "544289d5862b4c23b206f0a218990c8d",
      "adba4ba165f34b05afec9f21e10b12b4",
      "98b616ab47be47ec9dfc29b6acd070d1",
      "044c5b53b04344a980338ee6eb4ad35c",
      "6aa1e7cda3f64c31abb07b1503a9c2a3",
      "5becd9df0a9143668b7220cbf156a673"
     ]
    },
    "id": "Y0jhU7iULZwJ",
    "outputId": "64982df9-afd3-41b9-987d-76b84db073e1"
   },
   "outputs": [],
   "source": [
    "embeddings = embeddings_func(data.to_pandas())\n",
    "print(f\"{embedding_method_name} embeddings shape:\", embeddings.shape)"
   ]
  },
  {
   "cell_type": "markdown",
   "metadata": {
    "id": "WXeDmalUFqZ1"
   },
   "source": [
    "# Split Data"
   ]
  },
  {
   "cell_type": "code",
   "execution_count": null,
   "metadata": {
    "id": "LHraf-inK4l3"
   },
   "outputs": [],
   "source": [
    "X = cudf.DataFrame.from_pandas(pd.DataFrame(embeddings))\n",
    "y = labels\n",
    "\n",
    "X_np = X.to_pandas().values\n",
    "y_np = y.to_pandas().values\n",
    "\n",
    "X_train, X_test, y_train, y_test = train_test_split(X_np, y_np, test_size=0.2, random_state=42, stratify=y_np)\n",
    "\n",
    "# Convert the train and test arrays back to cuDF DataFrames\n",
    "X_train = cudf.DataFrame.from_pandas(pd.DataFrame(X_train))\n",
    "X_test = cudf.DataFrame.from_pandas(pd.DataFrame(X_test))\n",
    "y_train = cudf.Series(y_train.flatten())\n",
    "y_test = cudf.Series(y_test.flatten())"
   ]
  },
  {
   "cell_type": "markdown",
   "metadata": {
    "id": "QPkDLI1aFtjt"
   },
   "source": [
    "# Machine Learning Algorithms"
   ]
  },
  {
   "cell_type": "markdown",
   "metadata": {
    "id": "B51PSIvRGAYH"
   },
   "source": [
    "## Gaussian Naive Bayes"
   ]
  },
  {
   "cell_type": "code",
   "execution_count": null,
   "metadata": {
    "colab": {
     "base_uri": "https://localhost:8080/"
    },
    "id": "aMbEVyrVNW73",
    "outputId": "c8ccefb3-ff05-4d59-b70e-9c6e58ae3e09"
   },
   "outputs": [],
   "source": [
    "start = time.time()\n",
    "memory_before = psutil.virtual_memory().used\n",
    "\n",
    "print(\"GPU usage before running Gaussian Naive Bayes:\")\n",
    "print_gpu_usage()\n",
    "\n",
    "gnb = cuml.naive_bayes.GaussianNB()\n",
    "gnb.fit(X_train, y_train)\n",
    "\n",
    "print(f\"GPU usage after running Gaussian Naive Bayes:\")\n",
    "print_gpu_usage()\n",
    "print()\n",
    "\n",
    "memory_after = psutil.virtual_memory().used\n",
    "print(f\"Memory used for Gaussian Naive Bayes: {(memory_after - memory_before)/1024:.2f} KB\\n\")\n",
    "\n",
    "end = time.time()\n",
    "print(f\"Execution time of Gaussian Naive Bayes: {end-start:.2f} seconds\")"
   ]
  },
  {
   "cell_type": "code",
   "execution_count": null,
   "metadata": {
    "colab": {
     "base_uri": "https://localhost:8080/"
    },
    "id": "Ob95z1qn59qI",
    "outputId": "74f1963f-b177-4e8e-fee2-0b8baab49f02"
   },
   "outputs": [],
   "source": [
    "start = time.time()\n",
    "memory_before = psutil.virtual_memory().used\n",
    "\n",
    "print(\"GPU usage before running Gaussian Naive Bayes:\")\n",
    "print_gpu_usage()\n",
    "\n",
    "gnb_accuracy = gnb.score(X_test, y_test)\n",
    "end = time.time()\n",
    "\n",
    "print(\"GPU usage after running Gaussian Naive Bayes:\")\n",
    "print_gpu_usage()\n",
    "print()\n",
    "\n",
    "memory_after = psutil.virtual_memory().used\n",
    "print(f\"Memory used for Gaussian Naive Bayes: {(memory_after - memory_before)/1024:.2f} KB\\n\")\n",
    "\n",
    "print(f\"Execution time of Gaussian Naive Bayes: {end-start:.2f} seconds\")"
   ]
  },
  {
   "cell_type": "markdown",
   "metadata": {
    "id": "6yJfQv6YGKjW"
   },
   "source": [
    "## Bernoulli Naive Bayes"
   ]
  },
  {
   "cell_type": "code",
   "execution_count": null,
   "metadata": {
    "colab": {
     "base_uri": "https://localhost:8080/"
    },
    "id": "jmF0cZPFGMhJ",
    "outputId": "5c7eff5c-9e2f-43ef-c7fa-efbd185e72ea"
   },
   "outputs": [],
   "source": [
    "start = time.time()\n",
    "memory_before = psutil.virtual_memory().used\n",
    "\n",
    "print(\"GPU usage before running Bernoulli Naive Bayes:\")\n",
    "print_gpu_usage()\n",
    "\n",
    "bnb = cuml.naive_bayes.BernoulliNB()\n",
    "bnb.fit(X_train, y_train)\n",
    "\n",
    "print(\"GPU usage after running Bernoulli Naive Bayes:\")\n",
    "print_gpu_usage()\n",
    "print()\n",
    "\n",
    "memory_after = psutil.virtual_memory().used\n",
    "print(f\"Memory used for Bernoulli Naive Bayes: {(memory_after - memory_before)/1024:.2f} KB\\n\")\n",
    "\n",
    "end = time.time()\n",
    "print(f\"Execution time of Bernoulli Naive Bayes: {end-start:.2f} seconds\")"
   ]
  },
  {
   "cell_type": "code",
   "execution_count": null,
   "metadata": {
    "colab": {
     "base_uri": "https://localhost:8080/"
    },
    "id": "Axwm3GntGOrQ",
    "outputId": "0ffb1530-259e-4a39-b7d8-1edb70fd96de"
   },
   "outputs": [],
   "source": [
    "start = time.time()\n",
    "memory_before = psutil.virtual_memory().used\n",
    "\n",
    "print(\"GPU usage before running Bernoulli Naive Bayes:\")\n",
    "print_gpu_usage()\n",
    "\n",
    "bnb_accuracy = gnb.score(X_test, y_test)\n",
    "\n",
    "print(\"GPU usage after running Bernoulli Naive Bayes:\")\n",
    "print_gpu_usage()\n",
    "print()\n",
    "\n",
    "memory_after = psutil.virtual_memory().used\n",
    "print(f\"Memory used for Bernoulli Naive Bayes: {(memory_after - memory_before)/1024:.2f} KB\\n\")\n",
    "\n",
    "end = time.time()\n",
    "print(f\"Execution time of Bernoulli Naive Bayes: {end-start:.2f} seconds\")"
   ]
  },
  {
   "cell_type": "markdown",
   "metadata": {
    "id": "hn1_6xUSGZSB"
   },
   "source": [
    "## Logistic Regression"
   ]
  },
  {
   "cell_type": "code",
   "execution_count": null,
   "metadata": {
    "colab": {
     "base_uri": "https://localhost:8080/"
    },
    "id": "SlExDPKyOfkr",
    "outputId": "6371010b-915c-4b77-d25c-30b378d7da54"
   },
   "outputs": [],
   "source": [
    "start = time.time()\n",
    "memory_before = psutil.virtual_memory().used\n",
    "\n",
    "print(\"GPU usage before running Logistic Regression:\")\n",
    "print_gpu_usage()\n",
    "\n",
    "lr = cuml.LogisticRegression()\n",
    "lr.fit(X_train, y_train)\n",
    "\n",
    "print(\"GPU usage after running Logistic Regression:\")\n",
    "print_gpu_usage()\n",
    "print()\n",
    "\n",
    "memory_after = psutil.virtual_memory().used\n",
    "print(f\"Memory used for Logistic Regression: {(memory_after - memory_before)/1024:.2f} KB\\n\")\n",
    "\n",
    "end = time.time()\n",
    "print(f\"Execution time of Logistic Regression: {end-start:.2f} seconds\")"
   ]
  },
  {
   "cell_type": "code",
   "execution_count": null,
   "metadata": {
    "colab": {
     "base_uri": "https://localhost:8080/"
    },
    "id": "GS0pAWas6LCn",
    "outputId": "f548d6dd-cdac-4897-e6ec-1baa2387cb48"
   },
   "outputs": [],
   "source": [
    "start = time.time()\n",
    "memory_before = psutil.virtual_memory().used\n",
    "\n",
    "print(\"GPU usage before running Logistic Regression:\")\n",
    "print_gpu_usage()\n",
    "\n",
    "lr_accuracy = lr.score(X_test, y_test)\n",
    "\n",
    "print(\"GPU usage after running Logistic Regression:\")\n",
    "print_gpu_usage()\n",
    "print()\n",
    "\n",
    "memory_after = psutil.virtual_memory().used\n",
    "print(f\"Memory used for Logistic Regression: {(memory_after - memory_before)/1024:.2f} KB\\n\")\n",
    "\n",
    "end = time.time()\n",
    "print(f\"Execution time: {end-start:.2f} seconds\")"
   ]
  },
  {
   "cell_type": "markdown",
   "metadata": {
    "id": "Ub-nBJa_Gg-f"
   },
   "source": [
    "## Support Vector Machines"
   ]
  },
  {
   "cell_type": "code",
   "execution_count": null,
   "metadata": {
    "colab": {
     "base_uri": "https://localhost:8080/"
    },
    "id": "n0cp964QOhqa",
    "outputId": "91568018-1560-4953-ba5b-f869cee9cc0b"
   },
   "outputs": [],
   "source": [
    "start = time.time()\n",
    "memory_before = psutil.virtual_memory().used\n",
    "\n",
    "print(\"GPU usage before running SVM:\")\n",
    "print_gpu_usage()\n",
    "\n",
    "svm = cuml.SVC()\n",
    "svm.fit(X_train, y_train)\n",
    "\n",
    "print(\"GPU usage after running SVM:\")\n",
    "print_gpu_usage()\n",
    "print()\n",
    "\n",
    "memory_after = psutil.virtual_memory().used\n",
    "print(f\"Memory used for SVM: {(memory_after - memory_before)/1024:.2f} KB\\n\")\n",
    "\n",
    "end = time.time()\n",
    "print(f\"Execution time: {end-start:.2f} seconds\")"
   ]
  },
  {
   "cell_type": "code",
   "execution_count": null,
   "metadata": {
    "colab": {
     "base_uri": "https://localhost:8080/"
    },
    "id": "obMoU6Ze6Wmf",
    "outputId": "9757e526-9076-4abe-fb00-f0b9b5f4e815"
   },
   "outputs": [],
   "source": [
    "start = time.time()\n",
    "memory_before = psutil.virtual_memory().used\n",
    "\n",
    "print(\"GPU usage before running SVM:\")\n",
    "print_gpu_usage()\n",
    "\n",
    "svm_accuracy = svm.score(X_test, y_test)\n",
    "\n",
    "print(\"GPU usage after running SVM:\")\n",
    "print_gpu_usage()\n",
    "print()\n",
    "\n",
    "memory_after = psutil.virtual_memory().used\n",
    "print(f\"Memory used for SVM: {(memory_after - memory_before)/1024:.2f} KB\\n\")\n",
    "\n",
    "end = time.time()\n",
    "print(f\"Execution time: {end-start:.2f} seconds\")"
   ]
  },
  {
   "cell_type": "markdown",
   "metadata": {
    "id": "xm3pfHhVKUOh"
   },
   "source": [
    "## Random Forests"
   ]
  },
  {
   "cell_type": "code",
   "execution_count": null,
   "metadata": {
    "colab": {
     "base_uri": "https://localhost:8080/"
    },
    "id": "OZa6-Ub2KW03",
    "outputId": "8398679b-e4f0-4588-a852-479f51f969ad"
   },
   "outputs": [],
   "source": [
    "start = time.time()\n",
    "memory_before = psutil.virtual_memory().used\n",
    "\n",
    "print(\"GPU usage before running Random Forest:\")\n",
    "print_gpu_usage()\n",
    "\n",
    "rf = cuml.ensemble.RandomForestClassifier(n_estimators=100, max_depth=5)\n",
    "rf.fit(X_train, y_train)\n",
    "\n",
    "print(\"GPU usage after running Random Forest:\")\n",
    "print_gpu_usage()\n",
    "print()\n",
    "\n",
    "memory_after = psutil.virtual_memory().used\n",
    "print(f\"Memory used for Random Forest: {(memory_after - memory_before)/1024:.2f} KB\\n\")\n",
    "\n",
    "end = time.time()\n",
    "print(f\"Execution time of Random Forest: {end-start:.2f} seconds\")"
   ]
  },
  {
   "cell_type": "code",
   "execution_count": null,
   "metadata": {
    "colab": {
     "base_uri": "https://localhost:8080/"
    },
    "id": "Q82srDa8KnkX",
    "outputId": "a41c5230-75e2-4c26-c35f-bd7a177a84f6"
   },
   "outputs": [],
   "source": [
    "start = time.time()\n",
    "memory_before = psutil.virtual_memory().used\n",
    "\n",
    "print(\"GPU usage before running Random Forest:\")\n",
    "print_gpu_usage()\n",
    "\n",
    "rf_accuracy = rf.score(X_test, y_test)\n",
    "\n",
    "print(\"GPU usage after running Random Forest:\")\n",
    "print_gpu_usage()\n",
    "print()\n",
    "\n",
    "memory_after = psutil.virtual_memory().used\n",
    "print(f\"Memory used for Random Forest: {(memory_after - memory_before)/1024:.2f} KB\\n\")\n",
    "\n",
    "end = time.time()\n",
    "print(f\"Execution time of Random Forest: {end-start:.2f} seconds\")"
   ]
  },
  {
   "cell_type": "markdown",
   "metadata": {
    "id": "JpU17cbqGqG2"
   },
   "source": [
    "# Evaluation Metrics"
   ]
  },
  {
   "cell_type": "markdown",
   "metadata": {
    "id": "faBzskIJRNT4"
   },
   "source": [
    "## Train Accuracy"
   ]
  },
  {
   "cell_type": "code",
   "execution_count": null,
   "metadata": {
    "colab": {
     "base_uri": "https://localhost:8080/"
    },
    "id": "o_127MhpP0kG",
    "outputId": "058dd3b9-d5fd-4fcb-a620-84b3e6b2db30"
   },
   "outputs": [],
   "source": [
    "print(f\"Gaussian Naive Bayes Train Accuracy: {gnb.score(X_train, y_train) * 100:.2f}\")\n",
    "print(f\"Bernoulli Naive Bayes Train Accuracy: {bnb.score(X_train, y_train) * 100:.2f}\")\n",
    "print(f\"Logistic Regression Train Accuracy: {lr.score(X_train, y_train) * 100:.2f}\")\n",
    "print(f\"SVM Train Accuracy: {svm.score(X_train, y_train) * 100:.2f}\")\n",
    "print(f\"Random Train Forest Accuracy: {rf.score(X_train, y_train) * 100:.2f}\")"
   ]
  },
  {
   "cell_type": "markdown",
   "metadata": {
    "id": "yn5cOLJuRRci"
   },
   "source": [
    "## Test Accuracy"
   ]
  },
  {
   "cell_type": "code",
   "execution_count": null,
   "metadata": {
    "colab": {
     "base_uri": "https://localhost:8080/"
    },
    "id": "IZVECJAbOnXD",
    "outputId": "b187acc9-bd12-4ead-be0b-c2e0fe8c5e50"
   },
   "outputs": [],
   "source": [
    "print(f\"Gaussian Naive Bayes Test Accuracy: {gnb_accuracy * 100:.2f}\")\n",
    "print(f\"Bernoulli Naive Bayes Test Accuracy: {bnb_accuracy * 100:.2f}\")\n",
    "print(f\"Logistic Regression Test Accuracy: {lr_accuracy * 100:.2f}\")\n",
    "print(f\"SVM Test Accuracy: {svm_accuracy * 100:.2f}\")\n",
    "print(f\"Random Test Forest Accuracy: {rf_accuracy * 100:.2f}\")"
   ]
  }
 ],
 "metadata": {
  "accelerator": "GPU",
  "colab": {
   "gpuType": "T4",
   "provenance": []
  },
  "gpuClass": "standard",
  "kernelspec": {
   "display_name": "Python 3 (ipykernel)",
   "language": "python",
   "name": "python3"
  },
  "language_info": {
   "codemirror_mode": {
    "name": "ipython",
    "version": 3
   },
   "file_extension": ".py",
   "mimetype": "text/x-python",
   "name": "python",
   "nbconvert_exporter": "python",
   "pygments_lexer": "ipython3",
   "version": "3.10.9"
  },
  "widgets": {
   "application/vnd.jupyter.widget-state+json": {
    "044c5b53b04344a980338ee6eb4ad35c": {
     "model_module": "@jupyter-widgets/controls",
     "model_module_version": "1.5.0",
     "model_name": "ProgressStyleModel",
     "state": {
      "_model_module": "@jupyter-widgets/controls",
      "_model_module_version": "1.5.0",
      "_model_name": "ProgressStyleModel",
      "_view_count": null,
      "_view_module": "@jupyter-widgets/base",
      "_view_module_version": "1.2.0",
      "_view_name": "StyleView",
      "bar_color": null,
      "description_width": ""
     }
    },
    "06a48611880745fe89595bd3ede38adc": {
     "model_module": "@jupyter-widgets/controls",
     "model_module_version": "1.5.0",
     "model_name": "DescriptionStyleModel",
     "state": {
      "_model_module": "@jupyter-widgets/controls",
      "_model_module_version": "1.5.0",
      "_model_name": "DescriptionStyleModel",
      "_view_count": null,
      "_view_module": "@jupyter-widgets/base",
      "_view_module_version": "1.2.0",
      "_view_name": "StyleView",
      "description_width": ""
     }
    },
    "0bc89c6c0a7c477facb549973fbfe1fc": {
     "model_module": "@jupyter-widgets/controls",
     "model_module_version": "1.5.0",
     "model_name": "DescriptionStyleModel",
     "state": {
      "_model_module": "@jupyter-widgets/controls",
      "_model_module_version": "1.5.0",
      "_model_name": "DescriptionStyleModel",
      "_view_count": null,
      "_view_module": "@jupyter-widgets/base",
      "_view_module_version": "1.2.0",
      "_view_name": "StyleView",
      "description_width": ""
     }
    },
    "0d580043691244aaadd406b2297b87bf": {
     "model_module": "@jupyter-widgets/controls",
     "model_module_version": "1.5.0",
     "model_name": "HTMLModel",
     "state": {
      "_dom_classes": [],
      "_model_module": "@jupyter-widgets/controls",
      "_model_module_version": "1.5.0",
      "_model_name": "HTMLModel",
      "_view_count": null,
      "_view_module": "@jupyter-widgets/controls",
      "_view_module_version": "1.5.0",
      "_view_name": "HTMLView",
      "description": "",
      "description_tooltip": null,
      "layout": "IPY_MODEL_565149efd39843998133f5d8763df158",
      "placeholder": "​",
      "style": "IPY_MODEL_89661d9d37ab4681b6685a7eec7bb4e5",
      "value": " 28.0/28.0 [00:00&lt;00:00, 932B/s]"
     }
    },
    "1237cf8d36c24e36ae669b8d72f9ea79": {
     "model_module": "@jupyter-widgets/controls",
     "model_module_version": "1.5.0",
     "model_name": "DescriptionStyleModel",
     "state": {
      "_model_module": "@jupyter-widgets/controls",
      "_model_module_version": "1.5.0",
      "_model_name": "DescriptionStyleModel",
      "_view_count": null,
      "_view_module": "@jupyter-widgets/base",
      "_view_module_version": "1.2.0",
      "_view_name": "StyleView",
      "description_width": ""
     }
    },
    "20464b6b2eb04de383660752aac35957": {
     "model_module": "@jupyter-widgets/controls",
     "model_module_version": "1.5.0",
     "model_name": "FloatProgressModel",
     "state": {
      "_dom_classes": [],
      "_model_module": "@jupyter-widgets/controls",
      "_model_module_version": "1.5.0",
      "_model_name": "FloatProgressModel",
      "_view_count": null,
      "_view_module": "@jupyter-widgets/controls",
      "_view_module_version": "1.5.0",
      "_view_name": "ProgressView",
      "bar_style": "success",
      "description": "",
      "description_tooltip": null,
      "layout": "IPY_MODEL_279aebc4f0064fa3bc61e56088e10ec3",
      "max": 231508,
      "min": 0,
      "orientation": "horizontal",
      "style": "IPY_MODEL_5e9c29eafe0248d49287ec1f346d511d",
      "value": 231508
     }
    },
    "279aebc4f0064fa3bc61e56088e10ec3": {
     "model_module": "@jupyter-widgets/base",
     "model_module_version": "1.2.0",
     "model_name": "LayoutModel",
     "state": {
      "_model_module": "@jupyter-widgets/base",
      "_model_module_version": "1.2.0",
      "_model_name": "LayoutModel",
      "_view_count": null,
      "_view_module": "@jupyter-widgets/base",
      "_view_module_version": "1.2.0",
      "_view_name": "LayoutView",
      "align_content": null,
      "align_items": null,
      "align_self": null,
      "border": null,
      "bottom": null,
      "display": null,
      "flex": null,
      "flex_flow": null,
      "grid_area": null,
      "grid_auto_columns": null,
      "grid_auto_flow": null,
      "grid_auto_rows": null,
      "grid_column": null,
      "grid_gap": null,
      "grid_row": null,
      "grid_template_areas": null,
      "grid_template_columns": null,
      "grid_template_rows": null,
      "height": null,
      "justify_content": null,
      "justify_items": null,
      "left": null,
      "margin": null,
      "max_height": null,
      "max_width": null,
      "min_height": null,
      "min_width": null,
      "object_fit": null,
      "object_position": null,
      "order": null,
      "overflow": null,
      "overflow_x": null,
      "overflow_y": null,
      "padding": null,
      "right": null,
      "top": null,
      "visibility": null,
      "width": null
     }
    },
    "3201075d9ef14a8ba772f3a41671db7a": {
     "model_module": "@jupyter-widgets/controls",
     "model_module_version": "1.5.0",
     "model_name": "HBoxModel",
     "state": {
      "_dom_classes": [],
      "_model_module": "@jupyter-widgets/controls",
      "_model_module_version": "1.5.0",
      "_model_name": "HBoxModel",
      "_view_count": null,
      "_view_module": "@jupyter-widgets/controls",
      "_view_module_version": "1.5.0",
      "_view_name": "HBoxView",
      "box_style": "",
      "children": [
       "IPY_MODEL_5fef3f7352cb44c1b9be6e74ce550b07",
       "IPY_MODEL_20464b6b2eb04de383660752aac35957",
       "IPY_MODEL_c3b4c29f62bc4fd5b23d933cdf8a88ab"
      ],
      "layout": "IPY_MODEL_858bbbbdc73044de950dc867e79ed7c0"
     }
    },
    "380d663024ab4c7bbdb71c70b978ebae": {
     "model_module": "@jupyter-widgets/controls",
     "model_module_version": "1.5.0",
     "model_name": "HTMLModel",
     "state": {
      "_dom_classes": [],
      "_model_module": "@jupyter-widgets/controls",
      "_model_module_version": "1.5.0",
      "_model_name": "HTMLModel",
      "_view_count": null,
      "_view_module": "@jupyter-widgets/controls",
      "_view_module_version": "1.5.0",
      "_view_name": "HTMLView",
      "description": "",
      "description_tooltip": null,
      "layout": "IPY_MODEL_ab84af84486e44149cff5a518991d333",
      "placeholder": "​",
      "style": "IPY_MODEL_06a48611880745fe89595bd3ede38adc",
      "value": "Downloading (…)okenizer_config.json: 100%"
     }
    },
    "3be74acbb7a048ccb94af48e0098dc26": {
     "model_module": "@jupyter-widgets/controls",
     "model_module_version": "1.5.0",
     "model_name": "FloatProgressModel",
     "state": {
      "_dom_classes": [],
      "_model_module": "@jupyter-widgets/controls",
      "_model_module_version": "1.5.0",
      "_model_name": "FloatProgressModel",
      "_view_count": null,
      "_view_module": "@jupyter-widgets/controls",
      "_view_module_version": "1.5.0",
      "_view_name": "ProgressView",
      "bar_style": "success",
      "description": "",
      "description_tooltip": null,
      "layout": "IPY_MODEL_98b616ab47be47ec9dfc29b6acd070d1",
      "max": 536063208,
      "min": 0,
      "orientation": "horizontal",
      "style": "IPY_MODEL_044c5b53b04344a980338ee6eb4ad35c",
      "value": 536063208
     }
    },
    "3cd12608bc2041c4bc5084d819206282": {
     "model_module": "@jupyter-widgets/base",
     "model_module_version": "1.2.0",
     "model_name": "LayoutModel",
     "state": {
      "_model_module": "@jupyter-widgets/base",
      "_model_module_version": "1.2.0",
      "_model_name": "LayoutModel",
      "_view_count": null,
      "_view_module": "@jupyter-widgets/base",
      "_view_module_version": "1.2.0",
      "_view_name": "LayoutView",
      "align_content": null,
      "align_items": null,
      "align_self": null,
      "border": null,
      "bottom": null,
      "display": null,
      "flex": null,
      "flex_flow": null,
      "grid_area": null,
      "grid_auto_columns": null,
      "grid_auto_flow": null,
      "grid_auto_rows": null,
      "grid_column": null,
      "grid_gap": null,
      "grid_row": null,
      "grid_template_areas": null,
      "grid_template_columns": null,
      "grid_template_rows": null,
      "height": null,
      "justify_content": null,
      "justify_items": null,
      "left": null,
      "margin": null,
      "max_height": null,
      "max_width": null,
      "min_height": null,
      "min_width": null,
      "object_fit": null,
      "object_position": null,
      "order": null,
      "overflow": null,
      "overflow_x": null,
      "overflow_y": null,
      "padding": null,
      "right": null,
      "top": null,
      "visibility": null,
      "width": null
     }
    },
    "3f727621d1aa4a8181bf99f4e7d48210": {
     "model_module": "@jupyter-widgets/controls",
     "model_module_version": "1.5.0",
     "model_name": "FloatProgressModel",
     "state": {
      "_dom_classes": [],
      "_model_module": "@jupyter-widgets/controls",
      "_model_module_version": "1.5.0",
      "_model_name": "FloatProgressModel",
      "_view_count": null,
      "_view_module": "@jupyter-widgets/controls",
      "_view_module_version": "1.5.0",
      "_view_name": "ProgressView",
      "bar_style": "success",
      "description": "",
      "description_tooltip": null,
      "layout": "IPY_MODEL_f7a8b40bf08a4392a9bde921b0a8f54c",
      "max": 570,
      "min": 0,
      "orientation": "horizontal",
      "style": "IPY_MODEL_65ae17e8afed480abc91181e104ad113",
      "value": 570
     }
    },
    "544289d5862b4c23b206f0a218990c8d": {
     "model_module": "@jupyter-widgets/base",
     "model_module_version": "1.2.0",
     "model_name": "LayoutModel",
     "state": {
      "_model_module": "@jupyter-widgets/base",
      "_model_module_version": "1.2.0",
      "_model_name": "LayoutModel",
      "_view_count": null,
      "_view_module": "@jupyter-widgets/base",
      "_view_module_version": "1.2.0",
      "_view_name": "LayoutView",
      "align_content": null,
      "align_items": null,
      "align_self": null,
      "border": null,
      "bottom": null,
      "display": null,
      "flex": null,
      "flex_flow": null,
      "grid_area": null,
      "grid_auto_columns": null,
      "grid_auto_flow": null,
      "grid_auto_rows": null,
      "grid_column": null,
      "grid_gap": null,
      "grid_row": null,
      "grid_template_areas": null,
      "grid_template_columns": null,
      "grid_template_rows": null,
      "height": null,
      "justify_content": null,
      "justify_items": null,
      "left": null,
      "margin": null,
      "max_height": null,
      "max_width": null,
      "min_height": null,
      "min_width": null,
      "object_fit": null,
      "object_position": null,
      "order": null,
      "overflow": null,
      "overflow_x": null,
      "overflow_y": null,
      "padding": null,
      "right": null,
      "top": null,
      "visibility": null,
      "width": null
     }
    },
    "565149efd39843998133f5d8763df158": {
     "model_module": "@jupyter-widgets/base",
     "model_module_version": "1.2.0",
     "model_name": "LayoutModel",
     "state": {
      "_model_module": "@jupyter-widgets/base",
      "_model_module_version": "1.2.0",
      "_model_name": "LayoutModel",
      "_view_count": null,
      "_view_module": "@jupyter-widgets/base",
      "_view_module_version": "1.2.0",
      "_view_name": "LayoutView",
      "align_content": null,
      "align_items": null,
      "align_self": null,
      "border": null,
      "bottom": null,
      "display": null,
      "flex": null,
      "flex_flow": null,
      "grid_area": null,
      "grid_auto_columns": null,
      "grid_auto_flow": null,
      "grid_auto_rows": null,
      "grid_column": null,
      "grid_gap": null,
      "grid_row": null,
      "grid_template_areas": null,
      "grid_template_columns": null,
      "grid_template_rows": null,
      "height": null,
      "justify_content": null,
      "justify_items": null,
      "left": null,
      "margin": null,
      "max_height": null,
      "max_width": null,
      "min_height": null,
      "min_width": null,
      "object_fit": null,
      "object_position": null,
      "order": null,
      "overflow": null,
      "overflow_x": null,
      "overflow_y": null,
      "padding": null,
      "right": null,
      "top": null,
      "visibility": null,
      "width": null
     }
    },
    "5becd9df0a9143668b7220cbf156a673": {
     "model_module": "@jupyter-widgets/controls",
     "model_module_version": "1.5.0",
     "model_name": "DescriptionStyleModel",
     "state": {
      "_model_module": "@jupyter-widgets/controls",
      "_model_module_version": "1.5.0",
      "_model_name": "DescriptionStyleModel",
      "_view_count": null,
      "_view_module": "@jupyter-widgets/base",
      "_view_module_version": "1.2.0",
      "_view_name": "StyleView",
      "description_width": ""
     }
    },
    "5e9c29eafe0248d49287ec1f346d511d": {
     "model_module": "@jupyter-widgets/controls",
     "model_module_version": "1.5.0",
     "model_name": "ProgressStyleModel",
     "state": {
      "_model_module": "@jupyter-widgets/controls",
      "_model_module_version": "1.5.0",
      "_model_name": "ProgressStyleModel",
      "_view_count": null,
      "_view_module": "@jupyter-widgets/base",
      "_view_module_version": "1.2.0",
      "_view_name": "StyleView",
      "bar_color": null,
      "description_width": ""
     }
    },
    "5fef3f7352cb44c1b9be6e74ce550b07": {
     "model_module": "@jupyter-widgets/controls",
     "model_module_version": "1.5.0",
     "model_name": "HTMLModel",
     "state": {
      "_dom_classes": [],
      "_model_module": "@jupyter-widgets/controls",
      "_model_module_version": "1.5.0",
      "_model_name": "HTMLModel",
      "_view_count": null,
      "_view_module": "@jupyter-widgets/controls",
      "_view_module_version": "1.5.0",
      "_view_name": "HTMLView",
      "description": "",
      "description_tooltip": null,
      "layout": "IPY_MODEL_eddceb506d1c40dcb1bf835174224827",
      "placeholder": "​",
      "style": "IPY_MODEL_ab75b3c140e445cd84fe01d675637025",
      "value": "Downloading (…)solve/main/vocab.txt: 100%"
     }
    },
    "633ab718103447998c36af208e523a41": {
     "model_module": "@jupyter-widgets/base",
     "model_module_version": "1.2.0",
     "model_name": "LayoutModel",
     "state": {
      "_model_module": "@jupyter-widgets/base",
      "_model_module_version": "1.2.0",
      "_model_name": "LayoutModel",
      "_view_count": null,
      "_view_module": "@jupyter-widgets/base",
      "_view_module_version": "1.2.0",
      "_view_name": "LayoutView",
      "align_content": null,
      "align_items": null,
      "align_self": null,
      "border": null,
      "bottom": null,
      "display": null,
      "flex": null,
      "flex_flow": null,
      "grid_area": null,
      "grid_auto_columns": null,
      "grid_auto_flow": null,
      "grid_auto_rows": null,
      "grid_column": null,
      "grid_gap": null,
      "grid_row": null,
      "grid_template_areas": null,
      "grid_template_columns": null,
      "grid_template_rows": null,
      "height": null,
      "justify_content": null,
      "justify_items": null,
      "left": null,
      "margin": null,
      "max_height": null,
      "max_width": null,
      "min_height": null,
      "min_width": null,
      "object_fit": null,
      "object_position": null,
      "order": null,
      "overflow": null,
      "overflow_x": null,
      "overflow_y": null,
      "padding": null,
      "right": null,
      "top": null,
      "visibility": null,
      "width": null
     }
    },
    "65ae17e8afed480abc91181e104ad113": {
     "model_module": "@jupyter-widgets/controls",
     "model_module_version": "1.5.0",
     "model_name": "ProgressStyleModel",
     "state": {
      "_model_module": "@jupyter-widgets/controls",
      "_model_module_version": "1.5.0",
      "_model_name": "ProgressStyleModel",
      "_view_count": null,
      "_view_module": "@jupyter-widgets/base",
      "_view_module_version": "1.2.0",
      "_view_name": "StyleView",
      "bar_color": null,
      "description_width": ""
     }
    },
    "6aa1e7cda3f64c31abb07b1503a9c2a3": {
     "model_module": "@jupyter-widgets/base",
     "model_module_version": "1.2.0",
     "model_name": "LayoutModel",
     "state": {
      "_model_module": "@jupyter-widgets/base",
      "_model_module_version": "1.2.0",
      "_model_name": "LayoutModel",
      "_view_count": null,
      "_view_module": "@jupyter-widgets/base",
      "_view_module_version": "1.2.0",
      "_view_name": "LayoutView",
      "align_content": null,
      "align_items": null,
      "align_self": null,
      "border": null,
      "bottom": null,
      "display": null,
      "flex": null,
      "flex_flow": null,
      "grid_area": null,
      "grid_auto_columns": null,
      "grid_auto_flow": null,
      "grid_auto_rows": null,
      "grid_column": null,
      "grid_gap": null,
      "grid_row": null,
      "grid_template_areas": null,
      "grid_template_columns": null,
      "grid_template_rows": null,
      "height": null,
      "justify_content": null,
      "justify_items": null,
      "left": null,
      "margin": null,
      "max_height": null,
      "max_width": null,
      "min_height": null,
      "min_width": null,
      "object_fit": null,
      "object_position": null,
      "order": null,
      "overflow": null,
      "overflow_x": null,
      "overflow_y": null,
      "padding": null,
      "right": null,
      "top": null,
      "visibility": null,
      "width": null
     }
    },
    "6c4132e0b9cd41b281ee97b59f9524f0": {
     "model_module": "@jupyter-widgets/controls",
     "model_module_version": "1.5.0",
     "model_name": "ProgressStyleModel",
     "state": {
      "_model_module": "@jupyter-widgets/controls",
      "_model_module_version": "1.5.0",
      "_model_name": "ProgressStyleModel",
      "_view_count": null,
      "_view_module": "@jupyter-widgets/base",
      "_view_module_version": "1.2.0",
      "_view_name": "StyleView",
      "bar_color": null,
      "description_width": ""
     }
    },
    "70c35d143b7d49d9a464c9ea1f873b20": {
     "model_module": "@jupyter-widgets/base",
     "model_module_version": "1.2.0",
     "model_name": "LayoutModel",
     "state": {
      "_model_module": "@jupyter-widgets/base",
      "_model_module_version": "1.2.0",
      "_model_name": "LayoutModel",
      "_view_count": null,
      "_view_module": "@jupyter-widgets/base",
      "_view_module_version": "1.2.0",
      "_view_name": "LayoutView",
      "align_content": null,
      "align_items": null,
      "align_self": null,
      "border": null,
      "bottom": null,
      "display": null,
      "flex": null,
      "flex_flow": null,
      "grid_area": null,
      "grid_auto_columns": null,
      "grid_auto_flow": null,
      "grid_auto_rows": null,
      "grid_column": null,
      "grid_gap": null,
      "grid_row": null,
      "grid_template_areas": null,
      "grid_template_columns": null,
      "grid_template_rows": null,
      "height": null,
      "justify_content": null,
      "justify_items": null,
      "left": null,
      "margin": null,
      "max_height": null,
      "max_width": null,
      "min_height": null,
      "min_width": null,
      "object_fit": null,
      "object_position": null,
      "order": null,
      "overflow": null,
      "overflow_x": null,
      "overflow_y": null,
      "padding": null,
      "right": null,
      "top": null,
      "visibility": null,
      "width": null
     }
    },
    "858bbbbdc73044de950dc867e79ed7c0": {
     "model_module": "@jupyter-widgets/base",
     "model_module_version": "1.2.0",
     "model_name": "LayoutModel",
     "state": {
      "_model_module": "@jupyter-widgets/base",
      "_model_module_version": "1.2.0",
      "_model_name": "LayoutModel",
      "_view_count": null,
      "_view_module": "@jupyter-widgets/base",
      "_view_module_version": "1.2.0",
      "_view_name": "LayoutView",
      "align_content": null,
      "align_items": null,
      "align_self": null,
      "border": null,
      "bottom": null,
      "display": null,
      "flex": null,
      "flex_flow": null,
      "grid_area": null,
      "grid_auto_columns": null,
      "grid_auto_flow": null,
      "grid_auto_rows": null,
      "grid_column": null,
      "grid_gap": null,
      "grid_row": null,
      "grid_template_areas": null,
      "grid_template_columns": null,
      "grid_template_rows": null,
      "height": null,
      "justify_content": null,
      "justify_items": null,
      "left": null,
      "margin": null,
      "max_height": null,
      "max_width": null,
      "min_height": null,
      "min_width": null,
      "object_fit": null,
      "object_position": null,
      "order": null,
      "overflow": null,
      "overflow_x": null,
      "overflow_y": null,
      "padding": null,
      "right": null,
      "top": null,
      "visibility": null,
      "width": null
     }
    },
    "89661d9d37ab4681b6685a7eec7bb4e5": {
     "model_module": "@jupyter-widgets/controls",
     "model_module_version": "1.5.0",
     "model_name": "DescriptionStyleModel",
     "state": {
      "_model_module": "@jupyter-widgets/controls",
      "_model_module_version": "1.5.0",
      "_model_name": "DescriptionStyleModel",
      "_view_count": null,
      "_view_module": "@jupyter-widgets/base",
      "_view_module_version": "1.2.0",
      "_view_name": "StyleView",
      "description_width": ""
     }
    },
    "91b93c2b57a84eb78d8c72bcb18aa942": {
     "model_module": "@jupyter-widgets/base",
     "model_module_version": "1.2.0",
     "model_name": "LayoutModel",
     "state": {
      "_model_module": "@jupyter-widgets/base",
      "_model_module_version": "1.2.0",
      "_model_name": "LayoutModel",
      "_view_count": null,
      "_view_module": "@jupyter-widgets/base",
      "_view_module_version": "1.2.0",
      "_view_name": "LayoutView",
      "align_content": null,
      "align_items": null,
      "align_self": null,
      "border": null,
      "bottom": null,
      "display": null,
      "flex": null,
      "flex_flow": null,
      "grid_area": null,
      "grid_auto_columns": null,
      "grid_auto_flow": null,
      "grid_auto_rows": null,
      "grid_column": null,
      "grid_gap": null,
      "grid_row": null,
      "grid_template_areas": null,
      "grid_template_columns": null,
      "grid_template_rows": null,
      "height": null,
      "justify_content": null,
      "justify_items": null,
      "left": null,
      "margin": null,
      "max_height": null,
      "max_width": null,
      "min_height": null,
      "min_width": null,
      "object_fit": null,
      "object_position": null,
      "order": null,
      "overflow": null,
      "overflow_x": null,
      "overflow_y": null,
      "padding": null,
      "right": null,
      "top": null,
      "visibility": null,
      "width": null
     }
    },
    "98185e36ddd1447e8fb1580235efa4a2": {
     "model_module": "@jupyter-widgets/controls",
     "model_module_version": "1.5.0",
     "model_name": "HBoxModel",
     "state": {
      "_dom_classes": [],
      "_model_module": "@jupyter-widgets/controls",
      "_model_module_version": "1.5.0",
      "_model_name": "HBoxModel",
      "_view_count": null,
      "_view_module": "@jupyter-widgets/controls",
      "_view_module_version": "1.5.0",
      "_view_name": "HBoxView",
      "box_style": "",
      "children": [
       "IPY_MODEL_c1c957e59e75494695cf3c474d55ab68",
       "IPY_MODEL_3f727621d1aa4a8181bf99f4e7d48210",
       "IPY_MODEL_f12c30317b194aa0bd4ead1d1edea6c7"
      ],
      "layout": "IPY_MODEL_a62d1496a87b4facb90840a2f9c70fd3"
     }
    },
    "98b616ab47be47ec9dfc29b6acd070d1": {
     "model_module": "@jupyter-widgets/base",
     "model_module_version": "1.2.0",
     "model_name": "LayoutModel",
     "state": {
      "_model_module": "@jupyter-widgets/base",
      "_model_module_version": "1.2.0",
      "_model_name": "LayoutModel",
      "_view_count": null,
      "_view_module": "@jupyter-widgets/base",
      "_view_module_version": "1.2.0",
      "_view_name": "LayoutView",
      "align_content": null,
      "align_items": null,
      "align_self": null,
      "border": null,
      "bottom": null,
      "display": null,
      "flex": null,
      "flex_flow": null,
      "grid_area": null,
      "grid_auto_columns": null,
      "grid_auto_flow": null,
      "grid_auto_rows": null,
      "grid_column": null,
      "grid_gap": null,
      "grid_row": null,
      "grid_template_areas": null,
      "grid_template_columns": null,
      "grid_template_rows": null,
      "height": null,
      "justify_content": null,
      "justify_items": null,
      "left": null,
      "margin": null,
      "max_height": null,
      "max_width": null,
      "min_height": null,
      "min_width": null,
      "object_fit": null,
      "object_position": null,
      "order": null,
      "overflow": null,
      "overflow_x": null,
      "overflow_y": null,
      "padding": null,
      "right": null,
      "top": null,
      "visibility": null,
      "width": null
     }
    },
    "9bf2db1e1849420a9182bf115a1f6813": {
     "model_module": "@jupyter-widgets/controls",
     "model_module_version": "1.5.0",
     "model_name": "HTMLModel",
     "state": {
      "_dom_classes": [],
      "_model_module": "@jupyter-widgets/controls",
      "_model_module_version": "1.5.0",
      "_model_name": "HTMLModel",
      "_view_count": null,
      "_view_module": "@jupyter-widgets/controls",
      "_view_module_version": "1.5.0",
      "_view_name": "HTMLView",
      "description": "",
      "description_tooltip": null,
      "layout": "IPY_MODEL_6aa1e7cda3f64c31abb07b1503a9c2a3",
      "placeholder": "​",
      "style": "IPY_MODEL_5becd9df0a9143668b7220cbf156a673",
      "value": " 536M/536M [00:05&lt;00:00, 89.9MB/s]"
     }
    },
    "a290c9e19481467fb38f6a5632aa9664": {
     "model_module": "@jupyter-widgets/controls",
     "model_module_version": "1.5.0",
     "model_name": "HBoxModel",
     "state": {
      "_dom_classes": [],
      "_model_module": "@jupyter-widgets/controls",
      "_model_module_version": "1.5.0",
      "_model_name": "HBoxModel",
      "_view_count": null,
      "_view_module": "@jupyter-widgets/controls",
      "_view_module_version": "1.5.0",
      "_view_name": "HBoxView",
      "box_style": "",
      "children": [
       "IPY_MODEL_380d663024ab4c7bbdb71c70b978ebae",
       "IPY_MODEL_ccf3cdb5cb9a40d199b70aefaf1ec45c",
       "IPY_MODEL_0d580043691244aaadd406b2297b87bf"
      ],
      "layout": "IPY_MODEL_633ab718103447998c36af208e523a41"
     }
    },
    "a62d1496a87b4facb90840a2f9c70fd3": {
     "model_module": "@jupyter-widgets/base",
     "model_module_version": "1.2.0",
     "model_name": "LayoutModel",
     "state": {
      "_model_module": "@jupyter-widgets/base",
      "_model_module_version": "1.2.0",
      "_model_name": "LayoutModel",
      "_view_count": null,
      "_view_module": "@jupyter-widgets/base",
      "_view_module_version": "1.2.0",
      "_view_name": "LayoutView",
      "align_content": null,
      "align_items": null,
      "align_self": null,
      "border": null,
      "bottom": null,
      "display": null,
      "flex": null,
      "flex_flow": null,
      "grid_area": null,
      "grid_auto_columns": null,
      "grid_auto_flow": null,
      "grid_auto_rows": null,
      "grid_column": null,
      "grid_gap": null,
      "grid_row": null,
      "grid_template_areas": null,
      "grid_template_columns": null,
      "grid_template_rows": null,
      "height": null,
      "justify_content": null,
      "justify_items": null,
      "left": null,
      "margin": null,
      "max_height": null,
      "max_width": null,
      "min_height": null,
      "min_width": null,
      "object_fit": null,
      "object_position": null,
      "order": null,
      "overflow": null,
      "overflow_x": null,
      "overflow_y": null,
      "padding": null,
      "right": null,
      "top": null,
      "visibility": null,
      "width": null
     }
    },
    "ab75b3c140e445cd84fe01d675637025": {
     "model_module": "@jupyter-widgets/controls",
     "model_module_version": "1.5.0",
     "model_name": "DescriptionStyleModel",
     "state": {
      "_model_module": "@jupyter-widgets/controls",
      "_model_module_version": "1.5.0",
      "_model_name": "DescriptionStyleModel",
      "_view_count": null,
      "_view_module": "@jupyter-widgets/base",
      "_view_module_version": "1.2.0",
      "_view_name": "StyleView",
      "description_width": ""
     }
    },
    "ab84af84486e44149cff5a518991d333": {
     "model_module": "@jupyter-widgets/base",
     "model_module_version": "1.2.0",
     "model_name": "LayoutModel",
     "state": {
      "_model_module": "@jupyter-widgets/base",
      "_model_module_version": "1.2.0",
      "_model_name": "LayoutModel",
      "_view_count": null,
      "_view_module": "@jupyter-widgets/base",
      "_view_module_version": "1.2.0",
      "_view_name": "LayoutView",
      "align_content": null,
      "align_items": null,
      "align_self": null,
      "border": null,
      "bottom": null,
      "display": null,
      "flex": null,
      "flex_flow": null,
      "grid_area": null,
      "grid_auto_columns": null,
      "grid_auto_flow": null,
      "grid_auto_rows": null,
      "grid_column": null,
      "grid_gap": null,
      "grid_row": null,
      "grid_template_areas": null,
      "grid_template_columns": null,
      "grid_template_rows": null,
      "height": null,
      "justify_content": null,
      "justify_items": null,
      "left": null,
      "margin": null,
      "max_height": null,
      "max_width": null,
      "min_height": null,
      "min_width": null,
      "object_fit": null,
      "object_position": null,
      "order": null,
      "overflow": null,
      "overflow_x": null,
      "overflow_y": null,
      "padding": null,
      "right": null,
      "top": null,
      "visibility": null,
      "width": null
     }
    },
    "adba4ba165f34b05afec9f21e10b12b4": {
     "model_module": "@jupyter-widgets/controls",
     "model_module_version": "1.5.0",
     "model_name": "DescriptionStyleModel",
     "state": {
      "_model_module": "@jupyter-widgets/controls",
      "_model_module_version": "1.5.0",
      "_model_name": "DescriptionStyleModel",
      "_view_count": null,
      "_view_module": "@jupyter-widgets/base",
      "_view_module_version": "1.2.0",
      "_view_name": "StyleView",
      "description_width": ""
     }
    },
    "b5e5d5aec7b84f289317011930935aa1": {
     "model_module": "@jupyter-widgets/base",
     "model_module_version": "1.2.0",
     "model_name": "LayoutModel",
     "state": {
      "_model_module": "@jupyter-widgets/base",
      "_model_module_version": "1.2.0",
      "_model_name": "LayoutModel",
      "_view_count": null,
      "_view_module": "@jupyter-widgets/base",
      "_view_module_version": "1.2.0",
      "_view_name": "LayoutView",
      "align_content": null,
      "align_items": null,
      "align_self": null,
      "border": null,
      "bottom": null,
      "display": null,
      "flex": null,
      "flex_flow": null,
      "grid_area": null,
      "grid_auto_columns": null,
      "grid_auto_flow": null,
      "grid_auto_rows": null,
      "grid_column": null,
      "grid_gap": null,
      "grid_row": null,
      "grid_template_areas": null,
      "grid_template_columns": null,
      "grid_template_rows": null,
      "height": null,
      "justify_content": null,
      "justify_items": null,
      "left": null,
      "margin": null,
      "max_height": null,
      "max_width": null,
      "min_height": null,
      "min_width": null,
      "object_fit": null,
      "object_position": null,
      "order": null,
      "overflow": null,
      "overflow_x": null,
      "overflow_y": null,
      "padding": null,
      "right": null,
      "top": null,
      "visibility": null,
      "width": null
     }
    },
    "c1c957e59e75494695cf3c474d55ab68": {
     "model_module": "@jupyter-widgets/controls",
     "model_module_version": "1.5.0",
     "model_name": "HTMLModel",
     "state": {
      "_dom_classes": [],
      "_model_module": "@jupyter-widgets/controls",
      "_model_module_version": "1.5.0",
      "_model_name": "HTMLModel",
      "_view_count": null,
      "_view_module": "@jupyter-widgets/controls",
      "_view_module_version": "1.5.0",
      "_view_name": "HTMLView",
      "description": "",
      "description_tooltip": null,
      "layout": "IPY_MODEL_b5e5d5aec7b84f289317011930935aa1",
      "placeholder": "​",
      "style": "IPY_MODEL_0bc89c6c0a7c477facb549973fbfe1fc",
      "value": "Downloading (…)lve/main/config.json: 100%"
     }
    },
    "c3b4c29f62bc4fd5b23d933cdf8a88ab": {
     "model_module": "@jupyter-widgets/controls",
     "model_module_version": "1.5.0",
     "model_name": "HTMLModel",
     "state": {
      "_dom_classes": [],
      "_model_module": "@jupyter-widgets/controls",
      "_model_module_version": "1.5.0",
      "_model_name": "HTMLModel",
      "_view_count": null,
      "_view_module": "@jupyter-widgets/controls",
      "_view_module_version": "1.5.0",
      "_view_name": "HTMLView",
      "description": "",
      "description_tooltip": null,
      "layout": "IPY_MODEL_70c35d143b7d49d9a464c9ea1f873b20",
      "placeholder": "​",
      "style": "IPY_MODEL_fced40ccdda34b38b13d2264a40c2e08",
      "value": " 232k/232k [00:00&lt;00:00, 701kB/s]"
     }
    },
    "ccf3cdb5cb9a40d199b70aefaf1ec45c": {
     "model_module": "@jupyter-widgets/controls",
     "model_module_version": "1.5.0",
     "model_name": "FloatProgressModel",
     "state": {
      "_dom_classes": [],
      "_model_module": "@jupyter-widgets/controls",
      "_model_module_version": "1.5.0",
      "_model_name": "FloatProgressModel",
      "_view_count": null,
      "_view_module": "@jupyter-widgets/controls",
      "_view_module_version": "1.5.0",
      "_view_name": "ProgressView",
      "bar_style": "success",
      "description": "",
      "description_tooltip": null,
      "layout": "IPY_MODEL_3cd12608bc2041c4bc5084d819206282",
      "max": 28,
      "min": 0,
      "orientation": "horizontal",
      "style": "IPY_MODEL_6c4132e0b9cd41b281ee97b59f9524f0",
      "value": 28
     }
    },
    "e0b154c66e88494295d2b52abb43a1f5": {
     "model_module": "@jupyter-widgets/base",
     "model_module_version": "1.2.0",
     "model_name": "LayoutModel",
     "state": {
      "_model_module": "@jupyter-widgets/base",
      "_model_module_version": "1.2.0",
      "_model_name": "LayoutModel",
      "_view_count": null,
      "_view_module": "@jupyter-widgets/base",
      "_view_module_version": "1.2.0",
      "_view_name": "LayoutView",
      "align_content": null,
      "align_items": null,
      "align_self": null,
      "border": null,
      "bottom": null,
      "display": null,
      "flex": null,
      "flex_flow": null,
      "grid_area": null,
      "grid_auto_columns": null,
      "grid_auto_flow": null,
      "grid_auto_rows": null,
      "grid_column": null,
      "grid_gap": null,
      "grid_row": null,
      "grid_template_areas": null,
      "grid_template_columns": null,
      "grid_template_rows": null,
      "height": null,
      "justify_content": null,
      "justify_items": null,
      "left": null,
      "margin": null,
      "max_height": null,
      "max_width": null,
      "min_height": null,
      "min_width": null,
      "object_fit": null,
      "object_position": null,
      "order": null,
      "overflow": null,
      "overflow_x": null,
      "overflow_y": null,
      "padding": null,
      "right": null,
      "top": null,
      "visibility": null,
      "width": null
     }
    },
    "eddceb506d1c40dcb1bf835174224827": {
     "model_module": "@jupyter-widgets/base",
     "model_module_version": "1.2.0",
     "model_name": "LayoutModel",
     "state": {
      "_model_module": "@jupyter-widgets/base",
      "_model_module_version": "1.2.0",
      "_model_name": "LayoutModel",
      "_view_count": null,
      "_view_module": "@jupyter-widgets/base",
      "_view_module_version": "1.2.0",
      "_view_name": "LayoutView",
      "align_content": null,
      "align_items": null,
      "align_self": null,
      "border": null,
      "bottom": null,
      "display": null,
      "flex": null,
      "flex_flow": null,
      "grid_area": null,
      "grid_auto_columns": null,
      "grid_auto_flow": null,
      "grid_auto_rows": null,
      "grid_column": null,
      "grid_gap": null,
      "grid_row": null,
      "grid_template_areas": null,
      "grid_template_columns": null,
      "grid_template_rows": null,
      "height": null,
      "justify_content": null,
      "justify_items": null,
      "left": null,
      "margin": null,
      "max_height": null,
      "max_width": null,
      "min_height": null,
      "min_width": null,
      "object_fit": null,
      "object_position": null,
      "order": null,
      "overflow": null,
      "overflow_x": null,
      "overflow_y": null,
      "padding": null,
      "right": null,
      "top": null,
      "visibility": null,
      "width": null
     }
    },
    "f12c30317b194aa0bd4ead1d1edea6c7": {
     "model_module": "@jupyter-widgets/controls",
     "model_module_version": "1.5.0",
     "model_name": "HTMLModel",
     "state": {
      "_dom_classes": [],
      "_model_module": "@jupyter-widgets/controls",
      "_model_module_version": "1.5.0",
      "_model_name": "HTMLModel",
      "_view_count": null,
      "_view_module": "@jupyter-widgets/controls",
      "_view_module_version": "1.5.0",
      "_view_name": "HTMLView",
      "description": "",
      "description_tooltip": null,
      "layout": "IPY_MODEL_91b93c2b57a84eb78d8c72bcb18aa942",
      "placeholder": "​",
      "style": "IPY_MODEL_1237cf8d36c24e36ae669b8d72f9ea79",
      "value": " 570/570 [00:00&lt;00:00, 12.4kB/s]"
     }
    },
    "f7a8b40bf08a4392a9bde921b0a8f54c": {
     "model_module": "@jupyter-widgets/base",
     "model_module_version": "1.2.0",
     "model_name": "LayoutModel",
     "state": {
      "_model_module": "@jupyter-widgets/base",
      "_model_module_version": "1.2.0",
      "_model_name": "LayoutModel",
      "_view_count": null,
      "_view_module": "@jupyter-widgets/base",
      "_view_module_version": "1.2.0",
      "_view_name": "LayoutView",
      "align_content": null,
      "align_items": null,
      "align_self": null,
      "border": null,
      "bottom": null,
      "display": null,
      "flex": null,
      "flex_flow": null,
      "grid_area": null,
      "grid_auto_columns": null,
      "grid_auto_flow": null,
      "grid_auto_rows": null,
      "grid_column": null,
      "grid_gap": null,
      "grid_row": null,
      "grid_template_areas": null,
      "grid_template_columns": null,
      "grid_template_rows": null,
      "height": null,
      "justify_content": null,
      "justify_items": null,
      "left": null,
      "margin": null,
      "max_height": null,
      "max_width": null,
      "min_height": null,
      "min_width": null,
      "object_fit": null,
      "object_position": null,
      "order": null,
      "overflow": null,
      "overflow_x": null,
      "overflow_y": null,
      "padding": null,
      "right": null,
      "top": null,
      "visibility": null,
      "width": null
     }
    },
    "fc0b972027b14c879bbd9aac3a791cb8": {
     "model_module": "@jupyter-widgets/controls",
     "model_module_version": "1.5.0",
     "model_name": "HTMLModel",
     "state": {
      "_dom_classes": [],
      "_model_module": "@jupyter-widgets/controls",
      "_model_module_version": "1.5.0",
      "_model_name": "HTMLModel",
      "_view_count": null,
      "_view_module": "@jupyter-widgets/controls",
      "_view_module_version": "1.5.0",
      "_view_name": "HTMLView",
      "description": "",
      "description_tooltip": null,
      "layout": "IPY_MODEL_544289d5862b4c23b206f0a218990c8d",
      "placeholder": "​",
      "style": "IPY_MODEL_adba4ba165f34b05afec9f21e10b12b4",
      "value": "Downloading tf_model.h5: 100%"
     }
    },
    "fced40ccdda34b38b13d2264a40c2e08": {
     "model_module": "@jupyter-widgets/controls",
     "model_module_version": "1.5.0",
     "model_name": "DescriptionStyleModel",
     "state": {
      "_model_module": "@jupyter-widgets/controls",
      "_model_module_version": "1.5.0",
      "_model_name": "DescriptionStyleModel",
      "_view_count": null,
      "_view_module": "@jupyter-widgets/base",
      "_view_module_version": "1.2.0",
      "_view_name": "StyleView",
      "description_width": ""
     }
    },
    "ffd1f457a6d4428085eb9a6e1245fda0": {
     "model_module": "@jupyter-widgets/controls",
     "model_module_version": "1.5.0",
     "model_name": "HBoxModel",
     "state": {
      "_dom_classes": [],
      "_model_module": "@jupyter-widgets/controls",
      "_model_module_version": "1.5.0",
      "_model_name": "HBoxModel",
      "_view_count": null,
      "_view_module": "@jupyter-widgets/controls",
      "_view_module_version": "1.5.0",
      "_view_name": "HBoxView",
      "box_style": "",
      "children": [
       "IPY_MODEL_fc0b972027b14c879bbd9aac3a791cb8",
       "IPY_MODEL_3be74acbb7a048ccb94af48e0098dc26",
       "IPY_MODEL_9bf2db1e1849420a9182bf115a1f6813"
      ],
      "layout": "IPY_MODEL_e0b154c66e88494295d2b52abb43a1f5"
     }
    }
   }
  }
 },
 "nbformat": 4,
 "nbformat_minor": 1
}
